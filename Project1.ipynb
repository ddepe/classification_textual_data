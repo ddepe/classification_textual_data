{
 "cells": [
  {
   "cell_type": "markdown",
   "metadata": {
    "id": "AAOtXmcAMuYQ",
    "colab_type": "text"
   },
   "source": [
    "## Question 1: Getting Familiar With the Dataset\n",
    "\n",
    "Plot a histogram of the number of training documents for each of the 20 categories to check if they are evenly distributed."
   ]
  },
  {
   "cell_type": "code",
   "execution_count": 0,
   "metadata": {
    "id": "lKTSHJgjQemx",
    "colab_type": "code",
    "outputId": "81936d79-b058-4f3c-d3a9-2258ce77ff20",
    "colab": {
     "base_uri": "https://localhost:8080/",
     "height": 297.0
    }
   },
   "outputs": [
    {
     "data": {
      "image/png": "[encoded data removed]",
      "text/plain": [
       "<Figure size 432x288 with 1 Axes>"
      ]
     },
     "metadata": {
      "tags": []
     },
     "output_type": "display_data"
    }
   ],
   "source": [
    "from sklearn.datasets import fetch_20newsgroups\n",
    "import numpy as np\n",
    "import matplotlib.pyplot as plt\n",
    "\n",
    "ng_train = fetch_20newsgroups(subset='train')\n",
    "targets, counts = np.unique(ng_train.target, return_counts=True)\n",
    "plt.bar(targets, counts, tick_label=ng_train.target_names)\n",
    "plt.xticks(rotation='vertical')\n",
    "plt.title('Number of Training Documents for each Class')\n",
    "plt.ylabel('Document Count')\n",
    "plt.tight_layout()\n",
    "plt.show()"
   ]
  },
  {
   "cell_type": "markdown",
   "metadata": {
    "id": "RDZQFcBVIbol",
    "colab_type": "text"
   },
   "source": [
    "## Question 2: Feature Extraction\n",
    "\n",
    "Use the following specs to extract features from the textual data:\n",
    "*   Use the “english” stopwords of the CountVectorizer\n",
    "*   Exclude terms that are numbers (e.g. “123”, “-45”, “6.7” etc.)\n",
    "*   Perform lemmatization with nltk.wordnet.WordNetLemmatizer and pos_tag\n",
    "*   Use min_df=3\n",
    "\n",
    "Report the shape of the TF-IDF matrices of the train and test subsets respectively."
   ]
  },
  {
   "cell_type": "code",
   "execution_count": 0,
   "metadata": {
    "id": "gbeFFs90IyJL",
    "colab_type": "code",
    "outputId": "84423a05-6aa2-4279-b135-fa53e5422086",
    "colab": {
     "base_uri": "https://localhost:8080/",
     "height": 272.0
    }
   },
   "outputs": [
    {
     "name": "stdout",
     "output_type": "stream",
     "text": [
      "[nltk_data] Downloading package stopwords to /root/nltk_data...\n",
      "[nltk_data]   Package stopwords is already up-to-date!\n",
      "[nltk_data] Downloading package punkt to /root/nltk_data...\n",
      "[nltk_data]   Package punkt is already up-to-date!\n",
      "[nltk_data] Downloading package averaged_perceptron_tagger to\n",
      "[nltk_data]     /root/nltk_data...\n",
      "[nltk_data]   Package averaged_perceptron_tagger is already up-to-\n",
      "[nltk_data]       date!\n",
      "[nltk_data] Downloading package wordnet to /root/nltk_data...\n",
      "[nltk_data]   Package wordnet is already up-to-date!\n",
      "\n",
      "Shape of TF-IDF matrices:\n",
      "Train data set:  (4732, 16292)\n",
      "Test data set:  (3150, 16292)\n"
     ]
    }
   ],
   "source": [
    "import numpy as np\n",
    "np.random.seed(42)\n",
    "import random\n",
    "random.seed(42)\n",
    "\n",
    "categories = ['comp.graphics', 'comp.os.ms-windows.misc', \n",
    "              'comp.sys.ibm.pc.hardware', 'comp.sys.mac.hardware', \n",
    "              'rec.autos', 'rec.motorcycles', 'rec.sport.baseball', \n",
    "              'rec.sport.hockey']\n",
    "train_dataset = fetch_20newsgroups(subset = 'train', categories = categories,\n",
    "                                   shuffle = True, random_state = None)\n",
    "test_dataset  = fetch_20newsgroups(subset = 'test', categories = categories,\n",
    "                                   shuffle = True, random_state = None)\n",
    "\n",
    "import nltk\n",
    "nltk.download('stopwords')\n",
    "nltk.download('punkt')\n",
    "nltk.download('averaged_perceptron_tagger')\n",
    "nltk.download('wordnet')\n",
    "from sklearn.feature_extraction import text\n",
    "from nltk.corpus import stopwords\n",
    "from string import punctuation\n",
    "\n",
    "stop_words_skt = text.ENGLISH_STOP_WORDS\n",
    "stop_words_eng = stopwords.words('english')\n",
    "combined_stopwords = set.union(set(stop_words_eng), set(punctuation), \n",
    "                              set(stop_words_skt))\n",
    "\n",
    "from nltk import pos_tag\n",
    "\n",
    "wnl = nltk.wordnet.WordNetLemmatizer()\n",
    "\n",
    "def penn2morphy(penntag):\n",
    "  \"\"\"Convertes Penn Treebank tags to WordNet\"\"\"\n",
    "  morphy_tag = {'NN':'n', 'JJ':'a', 'VB':'v', 'RB':'r'}\n",
    "  try:\n",
    "    return morphy_tag[penntag[:2]]\n",
    "  except:\n",
    "    return 'n'\n",
    "\n",
    "def lemmatize(list_word):\n",
    "  return [wnl.lemmatize(word.lower(), pos=penn2morphy(tag))\n",
    "         for word, tag in pos_tag(list_word)]\n",
    "\n",
    "def stem_remove_punc(text):\n",
    "  return (word for word in lemmatize(analyzer(text))\n",
    "         if word not in combined_stopwords and not word.isdigit())\n",
    "\n",
    "analyzer = text.CountVectorizer().build_analyzer()\n",
    "tfidf_trans = text.TfidfTransformer()\n",
    "\n",
    "vectorizer = text.CountVectorizer(min_df=3, analyzer=stem_remove_punc,\n",
    "                                  stop_words='english')\n",
    "train_counts = vectorizer.fit_transform(train_dataset.data)\n",
    "test_counts = vectorizer.transform(test_dataset.data)\n",
    "\n",
    "X_train_tfidf = tfidf_trans.fit_transform(train_counts)\n",
    "X_test_tfidf = tfidf_trans.transform(test_counts)\n",
    "\n",
    "print('\\nShape of TF-IDF matrices:')\n",
    "print('Train data set: ', X_train_tfidf.shape)\n",
    "print('Test data set: ', X_test_tfidf.shape)"
   ]
  },
  {
   "cell_type": "markdown",
   "metadata": {
    "id": "Kclu04K7v4Go",
    "colab_type": "text"
   },
   "source": [
    "## Question 3: Dimensionality Reduction\n",
    "\n",
    "Reduce the dimensionality of the data using the methods above:\n",
    "*   Apply LSI to the TF-IDF matrix corresponding to the 8 categories with k = 50; so each document is mapped to a 50-dimensional vector\n",
    "*   Also reduce dimensionality through NMF (k = 50) and compare with LSI:\n",
    "  * Which one is larger, the ...\n",
    "\n"
   ]
  },
  {
   "cell_type": "markdown",
   "metadata": {
    "id": "kb07kvtAvl3j",
    "colab_type": "text"
   },
   "source": [
    "### LSA/LSI"
   ]
  },
  {
   "cell_type": "code",
   "execution_count": 0,
   "metadata": {
    "id": "lQ7Z4tZlweGz",
    "colab_type": "code",
    "outputId": "952dcaa4-e160-4b64-ecb2-43b92046b39d",
    "colab": {
     "base_uri": "https://localhost:8080/",
     "height": 54.0
    }
   },
   "outputs": [
    {
     "name": "stdout",
     "output_type": "stream",
     "text": [
      "X_train_tfidf:  (4732, 16292)\n",
      "X_transformed:  (4732, 50)\n"
     ]
    }
   ],
   "source": [
    "from sklearn.decomposition import TruncatedSVD\n",
    "\n",
    "# Based on the source code for TruncatedSVD, the return value corresponds to\n",
    "# X_transformed = U * sigma\n",
    "# VT can be obtained by calling .components_ on svd\n",
    "svd = TruncatedSVD(n_components=50)\n",
    "X_transformed_train = svd.fit_transform(X_train_tfidf)\n",
    "\n",
    "print(\"X_train_tfidf: \", X_train_tfidf.shape)\n",
    "print(\"X_transformed: \", X_transformed_train.shape)"
   ]
  },
  {
   "cell_type": "markdown",
   "metadata": {
    "id": "WbgzxBkmvrCJ",
    "colab_type": "text"
   },
   "source": [
    "### NMF"
   ]
  },
  {
   "cell_type": "code",
   "execution_count": 0,
   "metadata": {
    "id": "o1ff6yoSvtlM",
    "colab_type": "code",
    "outputId": "85795812-51b3-4575-9d67-9c4f76b22da7",
    "colab": {
     "base_uri": "https://localhost:8080/",
     "height": 35.0
    }
   },
   "outputs": [
    {
     "name": "stdout",
     "output_type": "stream",
     "text": [
      "(4732, 50)\n"
     ]
    }
   ],
   "source": [
    "from sklearn.decomposition import NMF\n",
    "\n",
    "nmf = NMF(n_components=50)\n",
    "W_train_reduced_nmf = nmf.fit_transform(X_train_tfidf)\n",
    "print(W_train_reduced_nmf.shape)"
   ]
  },
  {
   "cell_type": "markdown",
   "metadata": {
    "id": "xq9YXr9zyFxn",
    "colab_type": "text"
   },
   "source": [
    "### Comparison between LSA/LSI and NMF"
   ]
  },
  {
   "cell_type": "code",
   "execution_count": 0,
   "metadata": {
    "id": "mAA9intiyJMi",
    "colab_type": "code",
    "outputId": "cca1dfbf-0300-477b-d17f-7bc5c2eb9491",
    "colab": {
     "base_uri": "https://localhost:8080/",
     "height": 35.0
    }
   },
   "outputs": [
    {
     "data": {
      "text/plain": [
       "4143.497036460808"
      ]
     },
     "execution_count": 10,
     "metadata": {
      "tags": []
     },
     "output_type": "execute_result"
    }
   ],
   "source": [
    "# Calculate || X - W*H ||^2 for NMF\n",
    "H_train_reduced_nmf = nmf.components_\n",
    "np.sum(np.array(X_train_tfidf - W_train_reduced_nmf.dot(H_train_reduced_nmf))**2)"
   ]
  },
  {
   "cell_type": "code",
   "execution_count": 0,
   "metadata": {
    "id": "4tlRSx2IzFud",
    "colab_type": "code",
    "outputId": "944003e9-46d9-45c6-d0ea-8a9c23403e2e",
    "colab": {
     "base_uri": "https://localhost:8080/",
     "height": 35.0
    }
   },
   "outputs": [
    {
     "data": {
      "text/plain": [
       "4107.9653576566225"
      ]
     },
     "execution_count": 11,
     "metadata": {
      "tags": []
     },
     "output_type": "execute_result"
    }
   ],
   "source": [
    "# Calculate || X - U_k * Sigma_k * (V_k)^T ||^2 for LSA/LSI\n",
    "VT = svd.components_\n",
    "np.sum(np.array(X_train_tfidf - X_transformed_train.dot(VT))**2)"
   ]
  },
  {
   "cell_type": "markdown",
   "metadata": {
    "id": "Ut_dUQ03ES5w",
    "colab_type": "text"
   },
   "source": [
    "## Question 4: SVM (My-Quan)"
   ]
  },
  {
   "cell_type": "markdown",
   "metadata": {
    "id": "fBKOZpg6Drcn",
    "colab_type": "text"
   },
   "source": [
    "## Question 5: Logistic Classifier (Chris)\n",
    "\n",
    "Train a logistic classifier without regularization (you may need to come up with some way to approximate this if you use sklearn.linear_model.LogisticRegression); plot the ROC curve and report the confusion matrix and calculate the accuracy, recall precision and F-1 score of this classifier."
   ]
  },
  {
   "cell_type": "markdown",
   "metadata": {
    "id": "5pEtQNSAQDII",
    "colab_type": "text"
   },
   "source": [
    "### Logistic Regression with No Penalty\n",
    "\n",
    "Since sklearn's implementation of logistic regression does not give us the option of not using a regularizer, we can approximate this by setting the 'C' parameter to a very large number. "
   ]
  },
  {
   "cell_type": "code",
   "execution_count": 0,
   "metadata": {
    "id": "ncSbLlLEEQQf",
    "colab_type": "code",
    "colab": {}
   },
   "outputs": [],
   "source": [
    "# Combine sub-classes of docs into 'Computer Technology' and 'Recreational \n",
    "# Activity' using floor division such that when target is less than 4, it \n",
    "# becomes 0 and when it's between 4 and 7, it becomes 1\n",
    "vfunc = np.vectorize(lambda target: target // 4)\n",
    "y_train_dataset = vfunc(train_dataset.target)\n",
    "y_test_dataset = vfunc(test_dataset.target)\n",
    "\n",
    "\n",
    "# Logistic Regression\n",
    "from sklearn.linear_model import LogisticRegression\n",
    "\n",
    "# Reduce dimension of test set as well\n",
    "X_transformed_test = svd.transform(X_test_tfidf)\n",
    "\n",
    "# Instantiate classifier, learn parameters, and predict class for test dataset\n",
    "classifier = LogisticRegression(C=np.inf, solver='lbfgs', max_iter=10000)\n",
    "classifier.fit(X_transformed_train, y_train_dataset)\n",
    "y_pred = classifier.predict(X_transformed_test)\n",
    "y_score = classifier.predict_proba(X_transformed_test)"
   ]
  },
  {
   "cell_type": "markdown",
   "metadata": {
    "id": "u3jcpPySQoIE",
    "colab_type": "text"
   },
   "source": [
    "**Calculate ROC Curve**\n",
    "\n",
    "Use roc_curve from sklearn"
   ]
  },
  {
   "cell_type": "code",
   "execution_count": 0,
   "metadata": {
    "id": "yavSbh3yB6aC",
    "colab_type": "code",
    "outputId": "9b08c22c-5e9e-4b99-f981-592ebefa3d38",
    "colab": {
     "base_uri": "https://localhost:8080/",
     "height": 305.0
    }
   },
   "outputs": [
    {
     "data": {
      "image/png": "[encoded data removed]",
      "text/plain": [
       "<Figure size 432x288 with 1 Axes>"
      ]
     },
     "metadata": {
      "tags": []
     },
     "output_type": "display_data"
    }
   ],
   "source": [
    "from sklearn.metrics import recall_score, roc_curve, auc\n",
    "\n",
    "# Calculate fpr and tpr\n",
    "fpr, tpr, _ = roc_curve(y_test_dataset, y_score[:,1])\n",
    "\n",
    "# Function to plot ROC curve\n",
    "def plot_roc(fpr, tpr):\n",
    "    fig, ax = plt.subplots()\n",
    "\n",
    "    roc_auc = auc(fpr,tpr)\n",
    "\n",
    "    ax.plot(fpr, tpr, lw=2, label= 'area under curve = %0.4f' % roc_auc)\n",
    "\n",
    "    ax.grid(color='0.7', linestyle='--', linewidth=1)\n",
    "\n",
    "    ax.set_xlim([-0.1, 1.1])\n",
    "    ax.set_ylim([0.0, 1.05])\n",
    "    ax.set_xlabel('False Positive Rate',fontsize=15)\n",
    "    ax.set_ylabel('True Positive Rate',fontsize=15)\n",
    "    ax.set_title('ROC Curve with LSI Dimensionality Reduction')\n",
    "\n",
    "    ax.legend(loc=\"lower right\")\n",
    "\n",
    "    for label in ax.get_xticklabels()+ax.get_yticklabels():\n",
    "        label.set_fontsize(15)\n",
    "\n",
    "# Call function to plot ROC\n",
    "plot_roc(fpr, tpr)"
   ]
  },
  {
   "cell_type": "markdown",
   "metadata": {
    "id": "cS9Nptu8F-iz",
    "colab_type": "text"
   },
   "source": [
    "**Confusion Matrix**\n",
    "\n",
    "Code from https://scikit-learn.org/stable/auto_examples/model_selection/plot_confusion_matrix.html"
   ]
  },
  {
   "cell_type": "code",
   "execution_count": 0,
   "metadata": {
    "id": "rVrhtyykGFGo",
    "colab_type": "code",
    "outputId": "60ecc298-e84d-47f3-f460-fb99ac69d7f7",
    "colab": {
     "base_uri": "https://localhost:8080/",
     "height": 72.0
    }
   },
   "outputs": [
    {
     "name": "stdout",
     "output_type": "stream",
     "text": [
      "Confusion Matrix for Logistic Regression Classifier\n",
      "[[1505   55]\n",
      " [  37 1553]]\n"
     ]
    }
   ],
   "source": [
    "from sklearn.metrics import confusion_matrix\n",
    "from sklearn.utils.multiclass import unique_labels\n",
    "\n",
    "cm = confusion_matrix(y_test_dataset, y_pred)\n",
    "print('Confusion Matrix for Logistic Regression Classifier')\n",
    "print(cm)"
   ]
  },
  {
   "cell_type": "markdown",
   "metadata": {
    "id": "UH_iBV7HTT9c",
    "colab_type": "text"
   },
   "source": [
    "**Accuracy, Recall, Precision, and F-1 Score**"
   ]
  },
  {
   "cell_type": "code",
   "execution_count": 0,
   "metadata": {
    "id": "z48UyCceTcxK",
    "colab_type": "code",
    "outputId": "ed4a0d50-8b6c-4714-f16a-c62cdddc0bae",
    "colab": {
     "base_uri": "https://localhost:8080/",
     "height": 90.0
    }
   },
   "outputs": [
    {
     "name": "stdout",
     "output_type": "stream",
     "text": [
      "Accuracy: 0.971\n",
      "Recall: 0.977\n",
      "Precision: 0.966\n",
      "F-1 Score: 0.971\n"
     ]
    }
   ],
   "source": [
    "from sklearn.metrics import accuracy_score\n",
    "from sklearn.metrics import recall_score\n",
    "from sklearn.metrics import precision_score\n",
    "from sklearn.metrics import f1_score\n",
    "\n",
    "# Calculate accuracy\n",
    "print(\"Accuracy: {:.3f}\".format(accuracy_score(y_test_dataset, y_pred)))\n",
    "print(\"Recall: {:.3f}\".format(recall_score(y_test_dataset, y_pred)))\n",
    "print(\"Precision: {:.3f}\".format(precision_score(y_test_dataset, y_pred)))\n",
    "print(\"F-1 Score: {:.3f}\".format(f1_score(y_test_dataset, y_pred)))"
   ]
  },
  {
   "cell_type": "markdown",
   "metadata": {
    "id": "-JJK9ihHS5jr",
    "colab_type": "text"
   },
   "source": [
    "### Logistic Regression with Regularization\n",
    "  * Using 5-fold cross-validation on the dimension-reduced-by-svd training data, find the best regularization strength in the range ... for logistic regression with L1 regularization and logistic regression L2 regularization, respectively.\n",
    "  * Compare the performance (accuracy, precision, recall and F-1 score) of 3 logistic classifiers: w/o regularization, w/ L1 regularization and w/ L2 regularization (with the best parameters you found from the part above), using test data.\n",
    "  * How does the regularization parameter affect the test error? How are the learnt coefficients affected? Why might one be interested in each type of regularization?\n",
    "  * Both logistic regression and linear SVM are trying to classify data points using a linear decision boundary, then what’s the difference between their ways to find this boundary? Why their performance differ?"
   ]
  },
  {
   "cell_type": "code",
   "execution_count": 0,
   "metadata": {
    "id": "bKwQgDk9TAd_",
    "colab_type": "code",
    "outputId": "7971f31a-78fe-470a-c7ff-4550930428e8",
    "colab": {
     "base_uri": "https://localhost:8080/",
     "height": 90.0
    }
   },
   "outputs": [
    {
     "name": "stdout",
     "output_type": "stream",
     "text": [
      "Best Inverse Regularization strength for L1 Penalty: \n",
      "{'C': 10.0}\n",
      "Best Inverse Regularization strength for L2 Penalty: \n",
      "{'C': 100.0}\n"
     ]
    }
   ],
   "source": [
    "from sklearn.model_selection import cross_val_score\n",
    "from sklearn.model_selection import ShuffleSplit\n",
    "from sklearn.model_selection import GridSearchCV\n",
    "import math\n",
    "\n",
    "# Define parameter(s) to be used in the grid search\n",
    "parameters = {'C': [math.pow(10,k) for k in range(-3,4)]}\n",
    "\n",
    "# Create a grid search to find the best C value for L1 Penalty\n",
    "grid_clf_l1 = GridSearchCV(LogisticRegression(penalty='l1', solver='liblinear'), \n",
    "                        parameters, cv=5)\n",
    "grid_clf_l1.fit(X_transformed_train, y_train_dataset)\n",
    "\n",
    "print(\"Best Inverse Regularization strength for L1 Penalty: \")\n",
    "print(grid_clf_l1.best_params_)\n",
    "\n",
    "# Create a grid search to find the best C value for L1 Penalty\n",
    "grid_clf_l2 = GridSearchCV(LogisticRegression(penalty='l2', solver='lbfgs', \n",
    "                                           max_iter=200), parameters, cv=5)\n",
    "grid_clf_l2.fit(X_transformed_train, y_train_dataset)\n",
    "\n",
    "print(\"Best Inverse Regularization strength for L2 Penalty: \")\n",
    "print(grid_clf_l2.best_params_)"
   ]
  },
  {
   "cell_type": "markdown",
   "metadata": {
    "id": "mME5Q-w5s13G",
    "colab_type": "text"
   },
   "source": [
    "* Compare the performance (accuracy, precision, recall and F-1 score) of 3 logistic classifiers: w/o regularization, w/ L1 regularization and w/ L2 regularization (with the best parameters you found from the part above), using test data."
   ]
  },
  {
   "cell_type": "code",
   "execution_count": 0,
   "metadata": {
    "id": "r4B1vErJs5hE",
    "colab_type": "code",
    "outputId": "5c3e8704-89cc-446d-ccb8-1d2e4a6354e4",
    "colab": {
     "base_uri": "https://localhost:8080/",
     "height": 235.0
    }
   },
   "outputs": [
    {
     "name": "stdout",
     "output_type": "stream",
     "text": [
      "\n",
      "Logistic Regression with L1 Penalty and C=10\n",
      "Accuracy: 0.972\n",
      "Recall: 0.979\n",
      "Precision: 0.966\n",
      "F-1 Score: 0.973\n",
      "\n",
      "Logistic Regression with L2 Penalty and C=100\n",
      "Accuracy: 0.972\n",
      "Recall: 0.979\n",
      "Precision: 0.966\n",
      "F-1 Score: 0.973\n"
     ]
    }
   ],
   "source": [
    "# Performance of Logistic Regression with L1 penalty and C=10 on test data\n",
    "classifier = LogisticRegression(penalty='l1', C=10, solver='liblinear')\n",
    "classifier.fit(X_transformed_train, y_train_dataset)\n",
    "y_pred = classifier.predict(X_transformed_test)\n",
    "\n",
    "print(\"\\nLogistic Regression with L1 Penalty and C=10\")\n",
    "print(\"Accuracy: {:.3f}\".format(accuracy_score(y_test_dataset, y_pred)))\n",
    "print(\"Recall: {:.3f}\".format(recall_score(y_test_dataset, y_pred)))\n",
    "print(\"Precision: {:.3f}\".format(precision_score(y_test_dataset, y_pred)))\n",
    "print(\"F-1 Score: {:.3f}\".format(f1_score(y_test_dataset, y_pred)))\n",
    "\n",
    "# Performance of Logistic Regression with L2 penalty and C=100 on test data\n",
    "classifier = LogisticRegression(penalty='l2', C=100, solver='lbfgs')\n",
    "classifier.fit(X_transformed_train, y_train_dataset)\n",
    "y_pred = classifier.predict(X_transformed_test)\n",
    "\n",
    "print(\"\\nLogistic Regression with L2 Penalty and C=100\")\n",
    "print(\"Accuracy: {:.3f}\".format(accuracy_score(y_test_dataset, y_pred)))\n",
    "print(\"Recall: {:.3f}\".format(recall_score(y_test_dataset, y_pred)))\n",
    "print(\"Precision: {:.3f}\".format(precision_score(y_test_dataset, y_pred)))\n",
    "print(\"F-1 Score: {:.3f}\".format(f1_score(y_test_dataset, y_pred)))"
   ]
  },
  {
   "cell_type": "markdown",
   "metadata": {
    "id": "hOVH7dZsEaWN",
    "colab_type": "text"
   },
   "source": [
    "##Question 6: Naive Bayes (Danny)\n",
    "\n"
   ]
  },
  {
   "cell_type": "code",
   "execution_count": 0,
   "metadata": {
    "id": "HCiClLfXW8tX",
    "colab_type": "code",
    "colab": {}
   },
   "outputs": [],
   "source": [
    "# Combine sub-classes of docs into 'Computer Technology' and 'Recreational\n",
    "# Activity' using floor division such that when target is less than 4, it\n",
    "# becomes 0 and when it's between 4 and 7, it becomes 1\n",
    "vfunc = np.vectorize(lambda target: target // 4)\n",
    "y_train_dataset = vfunc(train_dataset.target)\n",
    "y_test_dataset = vfunc(test_dataset.target)\n",
    "\n",
    "from sklearn.naive_bayes import GaussianNB\n",
    "gnb = GaussianNB()\n",
    "gnb.fit(X_transformed, y_train_dataset)\n",
    "y_pred = gnb.predict(X_test_transformed)\n",
    "y_score = gnb.predict_proba(X_test_transformed)\n",
    "\n",
    "\"\"\"**Calculate ROC Curve**\n",
    "\n",
    "Use roc_curve from sklearn\n",
    "\"\"\"\n",
    "\n",
    "from sklearn.metrics import roc_curve, auc\n",
    "\n",
    "# Calculate false positive rate and true positive rate\n",
    "fpr, tpr, _ = roc_curve(y_test_dataset, y_score[:,1])\n",
    "\n",
    "# Call function to plot ROC\n",
    "plot_roc(fpr, tpr)\n",
    "plt.show()\n",
    "\n",
    "\"\"\"**Confusion Matrix**\n",
    "\n",
    "Code from https://scikit-learn.org/stable/auto_examples/model_selection/plot_confusion_matrix.html\n",
    "\"\"\"\n",
    "\n",
    "from sklearn.metrics import confusion_matrix\n",
    "\n",
    "cm = confusion_matrix(y_test_dataset, y_pred)\n",
    "print('Confusion Matrix for GaussianNB Classifier')\n",
    "print(cm)\n",
    "\n",
    "\"\"\"**Accuracy, Recall, Precision, and F-1 Score**\"\"\"\n",
    "\n",
    "from sklearn.metrics import accuracy_score\n",
    "from sklearn.metrics import recall_score\n",
    "from sklearn.metrics import precision_score\n",
    "from sklearn.metrics import f1_score\n",
    "\n",
    "# Calculate accuracy\n",
    "print(\"Accuracy: {:.3f}\".format(accuracy_score(y_test_dataset, y_pred)))\n",
    "print(\"Recall: {:.3f}\".format(recall_score(y_test_dataset, y_pred)))\n",
    "print(\"Precision: {:.3f}\".format(precision_score(y_test_dataset, y_pred)))\n",
    "print(\"F-1 Score: {:.3f}\".format(f1_score(y_test_dataset, y_pred)))\n"
   ]
  },
  {
   "cell_type": "markdown",
   "metadata": {
    "id": "BHnmZhxJah2n",
    "colab_type": "text"
   },
   "source": [
    "##Question 7: Grid Search of Parameters"
   ]
  },
  {
   "cell_type": "markdown",
   "metadata": {
    "id": "ban-bfLfuJ5q",
    "colab_type": "text"
   },
   "source": [
    "# Best Param for Data w/ headers and footers and w/o analyzer\n",
    "{'clf': LogisticRegression(C=10, class_weight=None, dual=False, fit_intercept=True,\n",
    "          intercept_scaling=1, max_iter=100, multi_class='warn',\n",
    "          n_jobs=None, penalty='l1', random_state=None, solver='liblinear',\n",
    "          tol=0.0001, verbose=0, warm_start=False), 'reduce_dim': TruncatedSVD(algorithm='randomized', n_components=50, n_iter=5,\n",
    "       random_state=None, tol=0.0), 'vect__min_df': 3}\n",
    "\n",
    "\n",
    "# Best Param for Data w/o headers and footers and w/o analyzer\n",
    "{'clf': LogisticRegression(C=10, class_weight=None, dual=False, fit_intercept=True,\n",
    "          intercept_scaling=1, max_iter=100, multi_class='warn',\n",
    "          n_jobs=None, penalty='l1', random_state=None, solver='liblinear',\n",
    "          tol=0.0001, verbose=0, warm_start=False), \n",
    "          'reduce_dim': TruncatedSVD(algorithm='randomized', n_components=50, n_iter=5,\n",
    "          random_state=None, tol=0.0), \n",
    "          'vect__min_df': 5}\n"
   ]
  },
  {
   "cell_type": "code",
   "execution_count": 0,
   "metadata": {
    "id": "BCQH1-IIajrv",
    "colab_type": "code",
    "outputId": "61cad35b-286b-4280-92cc-c3f5a5df6af2",
    "colab": {
     "base_uri": "https://localhost:8080/",
     "height": 2990.0
    }
   },
   "outputs": [
    {
     "name": "stdout",
     "output_type": "stream",
     "text": [
      "________________________________________________________________________________\n",
      "[Memory] Calling sklearn.pipeline._fit_transform_one...\n",
      "_fit_transform_one(CountVectorizer(analyzer=<function stem_remove_punc at 0x7fdc833ab2f0>,\n",
      "        binary=False, decode_error='strict', dtype=<class 'numpy.int64'>,\n",
      "        encoding='utf-8', input='content', lowercase=True, max_df=1.0,\n",
      "        max_features=None, min_df=3, ngram_range=(1, 1), preprocessor=None,\n",
      "        stop_words='english', strip_accents=None,\n",
      "        token_pattern='(?u)\\\\b\\\\w\\\\w+\\\\b', tokenizer=None, vocabulary=None), \n",
      "[ 'What hardware do plan to run on?  Workstation or PC?  Cost level?\\n'\n",
      "  'Run-time licensing needs?\\n'\n",
      "  '\\n'\n",
      "  'Bob',\n",
      "  'I used HP DeskJet with Orange Micros Grappler LS on System6.0.5.\\n'\n",
      "  '\\n'\n",
      "  'But now I update system 6.0.5 to System7 with Kanji-Talk 7.1,\\n'\n",
      "  'then I can not print by my DeskJet.\\n'\n",
      "  '\\n'\n",
      "  'Is the Grappler LS old ?\\n'\n",
      "  'Can I use DeskJet on System7 ?\\n'\n",
      "  '\\n'\n",
      "  'Please tell me how to use DeskJet on System7.\\n'\n",
      "  '\\n'\n",
      "  'Thank you\\n',\n",
      "  'Has anyone used the Number Nine (# 9) Video Graphics adaptor with Windows\\n'\n",
      "  'or Windows NT?  What do you think???',\n",
      "  'I look at zApp and really liked it. However, I think you should\\n'\n",
      "  'wait for version 2.0 (I think it will b..., \n",
      "array([0, ..., 0]), None)\n"
     ]
    },
    {
     "name": "stderr",
     "output_type": "stream",
     "text": [
      "/usr/local/lib/python3.6/dist-packages/sklearn/pipeline.py:230: UserWarning: Persisting input arguments took 2.96s to run.\n",
      "If this happens often in your code, it can cause performance problems \n",
      "(results will be correct in all cases). \n",
      "The reason for this is probably some large input arguments for a wrapped\n",
      " function (e.g. large strings).\n",
      "THIS IS A JOBLIB ISSUE. If you can, kindly provide the joblib's team with an\n",
      " example so that they can fix the problem.\n",
      "  **fit_params_steps[name])\n"
     ]
    },
    {
     "name": "stdout",
     "output_type": "stream",
     "text": [
      "_______________________________________________fit_transform_one - 85.4s, 1.4min\n",
      "________________________________________________________________________________\n",
      "[Memory] Calling sklearn.pipeline._fit_transform_one...\n",
      "_fit_transform_one(TfidfTransformer(norm='l2', smooth_idf=True, sublinear_tf=False, use_idf=True), <3785x11709 sparse matrix of type '<class 'numpy.int64'>'\n",
      "\twith 210469 stored elements in Compressed Sparse Row format>, \n",
      "array([0, ..., 0]), None)\n",
      "________________________________________________fit_transform_one - 0.0s, 0.0min\n",
      "________________________________________________________________________________\n",
      "[Memory] Calling sklearn.pipeline._fit_transform_one...\n",
      "_fit_transform_one(TruncatedSVD(algorithm='randomized', n_components=50, n_iter=5,\n",
      "       random_state=None, tol=0.0), \n",
      "<3785x11709 sparse matrix of type '<class 'numpy.float64'>'\n",
      "\twith 210469 stored elements in Compressed Sparse Row format>, \n",
      "array([0, ..., 0]), None)\n",
      "________________________________________________fit_transform_one - 0.9s, 0.0min\n",
      "________________________________________________________________________________\n",
      "[Memory] Calling sklearn.pipeline._fit_transform_one...\n",
      "_fit_transform_one(CountVectorizer(analyzer=<function stem_remove_punc at 0x7fdc833ab2f0>,\n",
      "        binary=False, decode_error='strict', dtype=<class 'numpy.int64'>,\n",
      "        encoding='utf-8', input='content', lowercase=True, max_df=1.0,\n",
      "        max_features=None, min_df=3, ngram_range=(1, 1), preprocessor=None,\n",
      "        stop_words='english', strip_accents=None,\n",
      "        token_pattern='(?u)\\\\b\\\\w\\\\w+\\\\b', tokenizer=None, vocabulary=None), \n",
      "[ 'In article <mssC5KCru.5Ip@netcom.com>, mss@netcom.com (Mark Singer) '\n",
      "  'writes:\\n'\n",
      "  '|> \\n'\n",
      "  '|> \\n'\n",
      "  '|> The media is beating the incident at Dodger Stadium on Wednesday to\\n'\n",
      "  \"|> death, but I haven't seen anything in rsb yet.\\n\"\n",
      "  '|> \\n'\n",
      "  '|> Gerald Perry of the Cardinals pinch hit in the eighth inning with two\\n'\n",
      "  '|> on and his club down by a run.  He stroked a line drive into the\\n'\n",
      "  '|> right field corner.  The ball cleared the three-foot high fence and\\n'\n",
      "  '|> went into the crowd.  Darryl, racing over from right center, got to\\n'\n",
      "  '|> the spot in time to reach his glove up over the short fence, but he\\n'\n",
      "  '|> missed the ball.  A fan sitting in the front row, wearing a ..., \n",
      "array([1, ..., 0]), None)\n"
     ]
    },
    {
     "name": "stderr",
     "output_type": "stream",
     "text": [
      "/usr/local/lib/python3.6/dist-packages/sklearn/pipeline.py:230: UserWarning: Persisting input arguments took 2.49s to run.\n",
      "If this happens often in your code, it can cause performance problems \n",
      "(results will be correct in all cases). \n",
      "The reason for this is probably some large input arguments for a wrapped\n",
      " function (e.g. large strings).\n",
      "THIS IS A JOBLIB ISSUE. If you can, kindly provide the joblib's team with an\n",
      " example so that they can fix the problem.\n",
      "  **fit_params_steps[name])\n"
     ]
    },
    {
     "name": "stdout",
     "output_type": "stream",
     "text": [
      "_______________________________________________fit_transform_one - 81.7s, 1.4min\n",
      "________________________________________________________________________________\n",
      "[Memory] Calling sklearn.pipeline._fit_transform_one...\n",
      "_fit_transform_one(TfidfTransformer(norm='l2', smooth_idf=True, sublinear_tf=False, use_idf=True), <3785x11320 sparse matrix of type '<class 'numpy.int64'>'\n",
      "\twith 206599 stored elements in Compressed Sparse Row format>, \n",
      "array([1, ..., 0]), None)\n",
      "________________________________________________fit_transform_one - 0.0s, 0.0min\n",
      "________________________________________________________________________________\n",
      "[Memory] Calling sklearn.pipeline._fit_transform_one...\n",
      "_fit_transform_one(TruncatedSVD(algorithm='randomized', n_components=50, n_iter=5,\n",
      "       random_state=None, tol=0.0), \n",
      "<3785x11320 sparse matrix of type '<class 'numpy.float64'>'\n",
      "\twith 206599 stored elements in Compressed Sparse Row format>, \n",
      "array([1, ..., 0]), None)\n",
      "________________________________________________fit_transform_one - 0.9s, 0.0min\n",
      "________________________________________________________________________________\n",
      "[Memory] Calling sklearn.pipeline._fit_transform_one...\n",
      "_fit_transform_one(CountVectorizer(analyzer=<function stem_remove_punc at 0x7fdc833ab2f0>,\n",
      "        binary=False, decode_error='strict', dtype=<class 'numpy.int64'>,\n",
      "        encoding='utf-8', input='content', lowercase=True, max_df=1.0,\n",
      "        max_features=None, min_df=3, ngram_range=(1, 1), preprocessor=None,\n",
      "        stop_words='english', strip_accents=None,\n",
      "        token_pattern='(?u)\\\\b\\\\w\\\\w+\\\\b', tokenizer=None, vocabulary=None), \n",
      "[ 'In article <mssC5KCru.5Ip@netcom.com>, mss@netcom.com (Mark Singer) '\n",
      "  'writes:\\n'\n",
      "  '|> \\n'\n",
      "  '|> \\n'\n",
      "  '|> The media is beating the incident at Dodger Stadium on Wednesday to\\n'\n",
      "  \"|> death, but I haven't seen anything in rsb yet.\\n\"\n",
      "  '|> \\n'\n",
      "  '|> Gerald Perry of the Cardinals pinch hit in the eighth inning with two\\n'\n",
      "  '|> on and his club down by a run.  He stroked a line drive into the\\n'\n",
      "  '|> right field corner.  The ball cleared the three-foot high fence and\\n'\n",
      "  '|> went into the crowd.  Darryl, racing over from right center, got to\\n'\n",
      "  '|> the spot in time to reach his glove up over the short fence, but he\\n'\n",
      "  '|> missed the ball.  A fan sitting in the front row, wearing a ..., \n",
      "array([1, ..., 0]), None)\n"
     ]
    },
    {
     "name": "stderr",
     "output_type": "stream",
     "text": [
      "/usr/local/lib/python3.6/dist-packages/sklearn/pipeline.py:230: UserWarning: Persisting input arguments took 2.87s to run.\n",
      "If this happens often in your code, it can cause performance problems \n",
      "(results will be correct in all cases). \n",
      "The reason for this is probably some large input arguments for a wrapped\n",
      " function (e.g. large strings).\n",
      "THIS IS A JOBLIB ISSUE. If you can, kindly provide the joblib's team with an\n",
      " example so that they can fix the problem.\n",
      "  **fit_params_steps[name])\n"
     ]
    },
    {
     "name": "stdout",
     "output_type": "stream",
     "text": [
      "_______________________________________________fit_transform_one - 84.9s, 1.4min\n",
      "________________________________________________________________________________\n",
      "[Memory] Calling sklearn.pipeline._fit_transform_one...\n",
      "_fit_transform_one(TfidfTransformer(norm='l2', smooth_idf=True, sublinear_tf=False, use_idf=True), <3785x11888 sparse matrix of type '<class 'numpy.int64'>'\n",
      "\twith 211016 stored elements in Compressed Sparse Row format>, \n",
      "array([1, ..., 0]), None)\n",
      "________________________________________________fit_transform_one - 0.0s, 0.0min\n",
      "________________________________________________________________________________\n",
      "[Memory] Calling sklearn.pipeline._fit_transform_one...\n",
      "_fit_transform_one(TruncatedSVD(algorithm='randomized', n_components=50, n_iter=5,\n",
      "       random_state=None, tol=0.0), \n",
      "<3785x11888 sparse matrix of type '<class 'numpy.float64'>'\n",
      "\twith 211016 stored elements in Compressed Sparse Row format>, \n",
      "array([1, ..., 0]), None)\n",
      "________________________________________________fit_transform_one - 0.9s, 0.0min\n",
      "________________________________________________________________________________\n",
      "[Memory] Calling sklearn.pipeline._fit_transform_one...\n",
      "_fit_transform_one(CountVectorizer(analyzer=<function stem_remove_punc at 0x7fdc833ab2f0>,\n",
      "        binary=False, decode_error='strict', dtype=<class 'numpy.int64'>,\n",
      "        encoding='utf-8', input='content', lowercase=True, max_df=1.0,\n",
      "        max_features=None, min_df=3, ngram_range=(1, 1), preprocessor=None,\n",
      "        stop_words='english', strip_accents=None,\n",
      "        token_pattern='(?u)\\\\b\\\\w\\\\w+\\\\b', tokenizer=None, vocabulary=None), \n",
      "[ 'In article <mssC5KCru.5Ip@netcom.com>, mss@netcom.com (Mark Singer) '\n",
      "  'writes:\\n'\n",
      "  '|> \\n'\n",
      "  '|> \\n'\n",
      "  '|> The media is beating the incident at Dodger Stadium on Wednesday to\\n'\n",
      "  \"|> death, but I haven't seen anything in rsb yet.\\n\"\n",
      "  '|> \\n'\n",
      "  '|> Gerald Perry of the Cardinals pinch hit in the eighth inning with two\\n'\n",
      "  '|> on and his club down by a run.  He stroked a line drive into the\\n'\n",
      "  '|> right field corner.  The ball cleared the three-foot high fence and\\n'\n",
      "  '|> went into the crowd.  Darryl, racing over from right center, got to\\n'\n",
      "  '|> the spot in time to reach his glove up over the short fence, but he\\n'\n",
      "  '|> missed the ball.  A fan sitting in the front row, wearing a ..., \n",
      "array([1, ..., 0]), None)\n"
     ]
    },
    {
     "name": "stderr",
     "output_type": "stream",
     "text": [
      "/usr/local/lib/python3.6/dist-packages/sklearn/pipeline.py:230: UserWarning: Persisting input arguments took 2.79s to run.\n",
      "If this happens often in your code, it can cause performance problems \n",
      "(results will be correct in all cases). \n",
      "The reason for this is probably some large input arguments for a wrapped\n",
      " function (e.g. large strings).\n",
      "THIS IS A JOBLIB ISSUE. If you can, kindly provide the joblib's team with an\n",
      " example so that they can fix the problem.\n",
      "  **fit_params_steps[name])\n"
     ]
    }
   ],
   "source": [
    "from sklearn.pipeline import Pipeline\n",
    "import sys\n",
    "sys.setrecursionlimit(100000)\n",
    "from IPython.display import display\n",
    "from tempfile import mkdtemp\n",
    "from shutil import rmtree\n",
    "from sklearn.externals.joblib import Memory\n",
    "import pandas as pd\n",
    "from sklearn.svm import SVC\n",
    "from sklearn.naive_bayes import GaussianNB\n",
    "from sklearn.base import BaseEstimator, TransformerMixin\n",
    "\n",
    "class SparseToDenseArray(BaseEstimator, TransformerMixin):\n",
    "    def __init__(self):\n",
    "        pass\n",
    "\n",
    "    def transform(self, X, *_):\n",
    "        if hasattr(X, 'toarray'):\n",
    "            return X.toarray()\n",
    "        return X\n",
    "\n",
    "    def fit(self, *_):\n",
    "        return self\n",
    "\n",
    "#analyzer = stem_remove_punc\n",
    "# print(__doc__)\n",
    "cachedir = mkdtemp()\n",
    "memory = Memory(location=cachedir, verbose=10)\n",
    "\n",
    "categories = ['comp.graphics', 'comp.os.ms-windows.misc', \n",
    "              'comp.sys.ibm.pc.hardware', 'comp.sys.mac.hardware', \n",
    "              'rec.autos', 'rec.motorcycles', 'rec.sport.baseball', \n",
    "              'rec.sport.hockey']\n",
    "train_set = fetch_20newsgroups(subset='train', remove=('headers', 'footers'),\n",
    "                              categories=categories)\n",
    "test_set = fetch_20newsgroups(subset='train', remove=('headers', 'footers'),\n",
    "                             categories=categories)\n",
    "\n",
    "pipeline = Pipeline([\n",
    "    ('vect', text.CountVectorizer(min_df=3, stop_words='english',\n",
    "                             analyzer=stem_remove_punc\n",
    "                                 )),\n",
    "    ('tfidf', text.TfidfTransformer()),\n",
    "    ('reduce_dim', TruncatedSVD()),\n",
    "    #('toarr', SparseToDenseArray()),\n",
    "    ('clf', SVC())\n",
    "]\n",
    "    ,\n",
    "    memory=memory\n",
    ")\n",
    "\n",
    "param_grid = [\n",
    "    {\n",
    "        #'vect': [text.CountVectorizer(stop_words='english')],\n",
    "        #'vect__analyzer': ['word', lemmatize],\n",
    "        'vect__min_df': [3,5],\n",
    "        'reduce_dim': [TruncatedSVD(n_components=50), NMF(n_components=50)],\n",
    "        'clf': [SVC(C=100, kernel='linear'), \n",
    "                LogisticRegression(penalty='l1', C=10, solver='liblinear'),\n",
    "                LogisticRegression(penalty='l2', C=100, solver='lbfgs')]\n",
    "    },\n",
    "    {\n",
    "        #'vect': [text.CountVectorizer(stop_words='english')],\n",
    "        #'vect__analyzer': ['word', lemmatize],\n",
    "        'vect__min_df': [3, 5],\n",
    "        'reduce_dim': [TruncatedSVD(n_components=50), NMF(n_components=50)],\n",
    "        'clf': [GaussianNB()]\n",
    "    }\n",
    "]\n",
    "\n",
    "grid = GridSearchCV(pipeline, cv=5, n_jobs=1, param_grid=param_grid, \n",
    "                    scoring='accuracy', verbose=0)\n",
    "\n",
    "# Training data without headers and footers\n",
    "grid.fit(train_set.data, y_train_dataset)\n",
    "result1 = pd.DataFrame(grid.cv_results_)\n",
    "display(result1)\n",
    "\n",
    "# Training data with headers and footers\n",
    "grid.fit(train_dataset.data, y_train_dataset)\n",
    "result2 = pd.DataFrame(grid.cv_results_)\n",
    "display(result2)\n",
    "\n",
    "rmtree(cachedir)"
   ]
  }
 ],
 "metadata": {
  "colab": {
   "name": "Project1.ipynb",
   "version": "0.3.2",
   "provenance": [],
   "collapsed_sections": []
  },
  "kernelspec": {
   "name": "python3",
   "display_name": "Python 3"
  }
 },
 "nbformat": 4,
 "nbformat_minor": 0
}
